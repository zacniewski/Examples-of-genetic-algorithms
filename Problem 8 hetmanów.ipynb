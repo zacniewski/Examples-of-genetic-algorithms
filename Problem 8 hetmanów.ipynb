{
 "cells": [
  {
   "cell_type": "markdown",
   "metadata": {},
   "source": [
    "### Problem 8 hetmanów \n"
   ]
  },
  {
   "cell_type": "markdown",
   "metadata": {},
   "source": [
    "[Wikipedia](https://pl.wikipedia.org/wiki/Problem_o%C5%9Bmiu_hetman%C3%B3w)  \n",
    "<p>Problem ośmiu hetmanów – hetman jest figurą szachową, która bije figury znajdujące się w tej samej kolumnie, wierszu lub przekątnej, co on sam.</p>\n",
    "<p>W jaki sposób rozstawić osiem hetmanów na tradycyjnej szachownicy 8x8 tak, aby wzajemnie się nie atakowały? Ile jest możliwych rozstawień?</p>\n",
    "<p>Przez rozstawienie podstawowe bądź rozwiązanie podstawowe należy rozumieć rozwiązanie z dokładnością do izomorfizmu, tzn. z uwzględnieniem wszystkich pokrewnych pozycji wynikających z odbić zwierciadlanych i obrotów.</p>"
   ]
  },
  {
   "cell_type": "markdown",
   "metadata": {},
   "source": [
    "#### Zakres ruchów hetmana\n",
    "![Hetman](queen.png \"Hetman i jego ruchy\")\n"
   ]
  },
  {
   "cell_type": "markdown",
   "metadata": {},
   "source": [
    "**Genotyp** to sposób kodowania części problemu, dzięki czemu można nimi manipulować za pomocą algorytmu genetycznego.  \n",
    "Przykład: potencjalne genotypy dla tego problemu:  \n",
    "  * 64 bity, po jednym dla każdego z 64 kwadratów na planszy \n",
    "  * 48 bitów, po 6 dla każdej z lokalizacjihetmana, ponieważ możemy policzyć do 64 za pomocą 6 bitów  \n",
    "  * 8 liczb całkowitych z zakresu 0..63 lub 1..64  \n",
    "  * 16 liczb całkowitych reprezentujących położenie wiersza i kolumny każdego hetmana  \n",
    "  \n",
    "**Fenotyp** mówi nam, jak odkodowane geny są wykorzystywane do rozwiązania problemu.  \n",
    "W każdym z powyższych przykładów fenotyp to lokalizacje 8 hetmanów na planszy.  \n",
    "\n",
    "**Funkcja sprawności (ang. fitness)** ocenia następnie fenotyp w kontekście rozwiązania problemu w celu obliczenia  wartości funkcji sprawności."
   ]
  },
  {
   "cell_type": "code",
   "execution_count": null,
   "metadata": {},
   "outputs": [],
   "source": []
  }
 ],
 "metadata": {
  "kernelspec": {
   "display_name": "Python 3",
   "language": "python",
   "name": "python3"
  },
  "language_info": {
   "codemirror_mode": {
    "name": "ipython",
    "version": 3
   },
   "file_extension": ".py",
   "mimetype": "text/x-python",
   "name": "python",
   "nbconvert_exporter": "python",
   "pygments_lexer": "ipython3",
   "version": "3.6.9"
  }
 },
 "nbformat": 4,
 "nbformat_minor": 2
}
