{
 "cells": [
  {
   "cell_type": "markdown",
   "metadata": {},
   "source": [
    "## Algorytmy genetyczne wykorzystują losowe badanie przestrzeni problemowej w połączeniu z procesami ewolucyjnymi, takimi jak mutacja i krzyżowanie (wymiana informacji genetycznej) w celu poprawy kolejnych prób odgadnięcia rozwiązania. \n",
    "\n",
    "## Ale także dlatego, że nie mają doświadczenia w dziedzinie problemu, próbują rzeczy, o których człowiek nigdy nie pomyślałby. Dlatego osoba korzystająca z algorytmu genetycznego może dowiedzieć się więcej o przestrzeni problemu i potencjalnych rozwiązaniach. Daje im to możliwość wprowadzenia ulepszeń do algorytmu."
   ]
  },
  {
   "cell_type": "code",
   "execution_count": 1,
   "metadata": {},
   "outputs": [],
   "source": [
    "# Import modułów\n",
    "import random\n",
    "import datetime"
   ]
  },
  {
   "cell_type": "code",
   "execution_count": 2,
   "metadata": {},
   "outputs": [],
   "source": [
    "# zbiór genów\n",
    "geneSet = \" aąbcćdeęfghijklłmnoópqrsśtuvwxyzźżABCĆDEFGHIJKLMNOÓPQRSŚTUVWXYZŹŻ!.\""
   ]
  },
  {
   "cell_type": "code",
   "execution_count": 3,
   "metadata": {},
   "outputs": [],
   "source": [
    "# nasz cel\n",
    "target = \"Witaj świecie!\""
   ]
  },
  {
   "cell_type": "code",
   "execution_count": 4,
   "metadata": {},
   "outputs": [],
   "source": [
    "# generacja rodzica\n",
    "def generate_parent(length):\n",
    "    genes = []\n",
    "    while len(genes) < length:\n",
    "        sampleSize = min(length - len(genes), len(geneSet))\n",
    "        genes.extend(random.sample(geneSet, sampleSize))\n",
    "    return ''.join(genes)"
   ]
  },
  {
   "cell_type": "code",
   "execution_count": 5,
   "metadata": {},
   "outputs": [
    {
     "data": {
      "text/plain": [
       "' ÓWPh'"
      ]
     },
     "execution_count": 5,
     "metadata": {},
     "output_type": "execute_result"
    }
   ],
   "source": [
    "# przykład generacji\n",
    "parent1 = generate_parent(5)\n",
    "parent1"
   ]
  },
  {
   "cell_type": "markdown",
   "metadata": {},
   "source": [
    "## Wartość 'fitness' zapewniana przez algorytm genetyczny jest jedyną informacją zwrotną, którą można wykorzystać w kierunku rozwiązania problemu. \n",
    "\n",
    "## W tym zadaniu wartością sprawności jest całkowita liczba liter w przypuszczeniach, które pasują do litery w tej samej pozycji hasła.\n"
   ]
  },
  {
   "cell_type": "code",
   "execution_count": 6,
   "metadata": {},
   "outputs": [],
   "source": [
    "# funkcja do obliczenia wartości 'fitness'\n",
    "# guess to sprawdzane słowo\n",
    "def get_fitness(guess):\n",
    "    return sum(1 for expected, actual in zip(target, guess) if expected == actual)"
   ]
  },
  {
   "cell_type": "code",
   "execution_count": 7,
   "metadata": {},
   "outputs": [
    {
     "data": {
      "text/plain": [
       "5"
      ]
     },
     "execution_count": 7,
     "metadata": {},
     "output_type": "execute_result"
    }
   ],
   "source": [
    "# przykład użycia, zwraca ile literek jest zgodnych ze sobą w dwóch wyrazach 'target' i 'guess'\n",
    "tekst_do_sprawdzenia = \"Witaj, Arturze!\"\n",
    "get_fitness(tekst_do_sprawdzenia)"
   ]
  },
  {
   "cell_type": "code",
   "execution_count": 8,
   "metadata": {},
   "outputs": [],
   "source": [
    "# mutacja\n",
    "def mutate(parent):\n",
    "    # losowy indeks\n",
    "    index = random.randrange(0, len(parent))\n",
    "    \n",
    "    # zamiana łąńcucha znaków na listę znaków\n",
    "    childGenes = list(parent)\n",
    "    newGene, alternate = random.sample(geneSet, 2)\n",
    "    \n",
    "    # wybierz jedną z dwóch wartości do podmiany elementu childGenes[index]\n",
    "    childGenes[index] = alternate \\\n",
    "        if newGene == childGenes[index] \\\n",
    "        else newGene\n",
    "    return ''.join(childGenes)\n"
   ]
  },
  {
   "cell_type": "code",
   "execution_count": 9,
   "metadata": {},
   "outputs": [],
   "source": [
    "# Czas w danej chwili\n",
    "startTime = datetime.datetime.now()"
   ]
  },
  {
   "cell_type": "code",
   "execution_count": 10,
   "metadata": {},
   "outputs": [],
   "source": [
    "# wyświetlanie danych\n",
    "def display(guess):\n",
    "    timeDiff = datetime.datetime.now() - startTime\n",
    "    fitness = get_fitness(guess)\n",
    "    print(f\"{guess}\\t{fitness}\\t{timeDiff}\")\n"
   ]
  },
  {
   "cell_type": "code",
   "execution_count": 11,
   "metadata": {},
   "outputs": [],
   "source": [
    "### Przykładowe obliczenia\n",
    "### Wyświetlamy osobnika, jego wartość dopasowania (fitness) i czas obliczeń"
   ]
  },
  {
   "cell_type": "code",
   "execution_count": 12,
   "metadata": {},
   "outputs": [
    {
     "name": "stdout",
     "output_type": "stream",
     "text": [
      "xĆJSPbmVEUKIeL\t1\t0:00:00.000148\n"
     ]
    }
   ],
   "source": [
    "# inicjalizacja generatora liczb pseudolosowych\n",
    "random.seed()\n",
    "\n",
    "# bieżący czas\n",
    "startTime = datetime.datetime.now()\n",
    "\n",
    "# generacja rodzica\n",
    "bestParent = generate_parent(len(target))\n",
    "\n",
    "# obliczanie wartości fitness\n",
    "bestFitness = get_fitness(bestParent)\n",
    "\n",
    "# wyświetlanie\n",
    "display(bestParent)\n"
   ]
  },
  {
   "cell_type": "code",
   "execution_count": 13,
   "metadata": {},
   "outputs": [],
   "source": [
    "## Szukamy hasła !!!"
   ]
  },
  {
   "cell_type": "code",
   "execution_count": 14,
   "metadata": {},
   "outputs": [
    {
     "name": "stdout",
     "output_type": "stream",
     "text": [
      "xĆJSPbmVEUKIe!\t2\t0:00:00.015999\n",
      "xĆtSPbmVEUKIe!\t3\t0:00:00.016503\n",
      "xitSPbmVEUKIe!\t4\t0:00:00.016662\n",
      "xitSPbmViUKIe!\t5\t0:00:00.018765\n",
      "xitSPbmViUcIe!\t6\t0:00:00.019548\n",
      "xitSPbśViUcIe!\t7\t0:00:00.021393\n",
      "WitSPbśViUcIe!\t8\t0:00:00.022030\n",
      "WitSPbświUcIe!\t9\t0:00:00.022390\n",
      "WitSP świUcIe!\t10\t0:00:00.028623\n",
      "WitSP świecIe!\t11\t0:00:00.030108\n",
      "WitaP świecIe!\t12\t0:00:00.035048\n",
      "WitaP świecie!\t13\t0:00:00.037240\n",
      "Witaj świecie!\t14\t0:00:00.056043\n"
     ]
    }
   ],
   "source": [
    "while True:\n",
    "    # potomek\n",
    "    child = mutate(bestParent)\n",
    "    \n",
    "    # fitness\n",
    "    childFitness = get_fitness(child)\n",
    "    \n",
    "    if bestFitness >= childFitness:\n",
    "        # dalej nie liczymy w tej pętli\n",
    "        continue\n",
    "        \n",
    "    # wyświetlanie\n",
    "    display(child)\n",
    "    # jeśli wartość fitness jest >= długości rodzica, to zakończ działanie\n",
    "    if childFitness >= len(bestParent):\n",
    "        break\n",
    "    bestFitness = childFitness\n",
    "    bestParent = child\n"
   ]
  },
  {
   "cell_type": "code",
   "execution_count": null,
   "metadata": {},
   "outputs": [],
   "source": []
  }
 ],
 "metadata": {
  "kernelspec": {
   "display_name": "Python 3",
   "language": "python",
   "name": "python3"
  },
  "language_info": {
   "codemirror_mode": {
    "name": "ipython",
    "version": 3
   },
   "file_extension": ".py",
   "mimetype": "text/x-python",
   "name": "python",
   "nbconvert_exporter": "python",
   "pygments_lexer": "ipython3",
   "version": "3.6.9"
  }
 },
 "nbformat": 4,
 "nbformat_minor": 2
}
